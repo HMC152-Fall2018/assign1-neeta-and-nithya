{
 "cells": [
  {
   "cell_type": "code",
   "execution_count": 1,
   "metadata": {},
   "outputs": [],
   "source": [
    "%reload_ext autoreload\n",
    "%autoreload 2\n",
    "%matplotlib inline"
   ]
  },
  {
   "cell_type": "code",
   "execution_count": 2,
   "metadata": {},
   "outputs": [
    {
     "name": "stderr",
     "output_type": "stream",
     "text": [
      "/home/ndeepak/.local/lib/python3.6/site-packages/sklearn/ensemble/weight_boosting.py:29: DeprecationWarning: numpy.core.umath_tests is an internal NumPy module and should not be imported. It will be removed in a future NumPy release.\n",
      "  from numpy.core.umath_tests import inner1d\n"
     ]
    }
   ],
   "source": [
    "from fastai.imports import *\n",
    "from fastai.transforms import *\n",
    "from fastai.conv_learner import *\n",
    "from fastai.model import *\n",
    "from fastai.dataset import *\n",
    "from fastai.sgdr import *\n",
    "from fastai.plots import *"
   ]
  },
  {
   "cell_type": "code",
   "execution_count": 3,
   "metadata": {},
   "outputs": [],
   "source": [
    "arch=resnet34\n",
    "PATH = \"/home/ndeepak/data/dog-breed-identification/\"\n",
    "sz=224"
   ]
  },
  {
   "cell_type": "code",
   "execution_count": 4,
   "metadata": {},
   "outputs": [
    {
     "name": "stdout",
     "output_type": "stream",
     "text": [
      "/home/ndeepak/data/dog-breed-identification\n"
     ]
    }
   ],
   "source": [
    "cd {PATH}"
   ]
  },
  {
   "cell_type": "code",
   "execution_count": 5,
   "metadata": {},
   "outputs": [
    {
     "data": {
      "text/plain": [
       "['train',\n",
       " 'sample_submission.csv',\n",
       " 'labels.csv',\n",
       " 'assignment1.ipynb',\n",
       " 'tmp',\n",
       " 'models',\n",
       " '.ipynb_checkpoints',\n",
       " 'test']"
      ]
     },
     "execution_count": 5,
     "metadata": {},
     "output_type": "execute_result"
    }
   ],
   "source": [
    "#!kaggle competitions download -c dog-breed-identification\n",
    "os.listdir(PATH)\n",
    "#!unzip '*.zip'\n",
    "#!rm *.zip"
   ]
  },
  {
   "cell_type": "code",
   "execution_count": 6,
   "metadata": {},
   "outputs": [
    {
     "data": {
      "text/plain": [
       "['ec1654e55864cef34ec43800744f8ac2.jpg',\n",
       " 'f52a0aaff41a517be216bf41c967a751.jpg',\n",
       " '6b8ac349a4550590b06c83996ed714e8.jpg',\n",
       " '96a7a15ba427e697067d62c8cef5a23a.jpg',\n",
       " '593d494b3c91921a8c6db19d00b8b4f1.jpg']"
      ]
     },
     "execution_count": 6,
     "metadata": {},
     "output_type": "execute_result"
    }
   ],
   "source": [
    "files = os.listdir(f'{PATH}train')[:5]\n",
    "files"
   ]
  },
  {
   "cell_type": "code",
   "execution_count": 7,
   "metadata": {},
   "outputs": [],
   "source": [
    "labels = f'{PATH}labels.csv'\n",
    "validation_size = int(len(list(open(labels)))*0.15)\n",
    "validation_indexes = get_cv_idxs(validation_size)"
   ]
  },
  {
   "cell_type": "code",
   "execution_count": 8,
   "metadata": {},
   "outputs": [],
   "source": [
    "data = ImageClassifierData.from_csv(PATH, 'train', labels, val_idxs=validation_indexes, test_name = 'test', suffix='.jpg', tfms=tfms_from_model(arch, sz, aug_tfms=transforms_side_on, max_zoom=1.1))"
   ]
  },
  {
   "cell_type": "code",
   "execution_count": 9,
   "metadata": {},
   "outputs": [],
   "source": [
    "training = ConvLearner.pretrained(arch, data, precompute=True)"
   ]
  },
  {
   "cell_type": "code",
   "execution_count": 10,
   "metadata": {},
   "outputs": [
    {
     "data": {
      "application/vnd.jupyter.widget-view+json": {
       "model_id": "4a0fa8a82bf44ebcb1c9ed865feeb3a3",
       "version_major": 2,
       "version_minor": 0
      },
      "text/plain": [
       "HBox(children=(IntProgress(value=0, description='Epoch', max=25), HTML(value='')))"
      ]
     },
     "metadata": {},
     "output_type": "display_data"
    },
    {
     "name": "stdout",
     "output_type": "stream",
     "text": [
      "epoch      trn_loss   val_loss   accuracy   \n",
      "    0      1.75911    0.876303   0.797386  \n",
      "    1      0.929008   0.589691   0.830065  \n",
      "    2      0.704204   0.522052   0.830065  \n",
      "    3      0.61922    0.456863   0.859477  \n",
      "    4      0.535755   0.462906   0.836601  \n",
      "    5      0.488828   0.434104   0.849673  \n",
      "    6      0.453806   0.438042   0.846405  \n",
      "    7      0.418028   0.436962   0.852941  \n",
      "    8      0.388462   0.424453   0.852941  \n",
      "    9      0.362814   0.407669   0.859477  \n",
      "    10     0.351617   0.422628   0.852941  \n",
      "    11     0.320896   0.414272   0.852941  \n",
      "    12     0.296315   0.433896   0.843137  \n",
      "    13     0.291057   0.44       0.846405  \n",
      "    14     0.274406   0.440238   0.849673  \n",
      "    15     0.26404    0.439102   0.869281  \n",
      "    16     0.254685   0.431404   0.869281  \n",
      "    17     0.243037   0.452217   0.859477  \n",
      "    18     0.223523   0.434032   0.862745  \n",
      "    19     0.22633    0.431252   0.866013  \n",
      "    20     0.20934    0.448204   0.856209  \n",
      "    21     0.211253   0.436237   0.852941  \n",
      "    22     0.198388   0.4464     0.862745  \n",
      "    23     0.203943   0.432231   0.862745  \n",
      "    24     0.185687   0.44024    0.856209  \n",
      "\n"
     ]
    },
    {
     "data": {
      "text/plain": [
       "[array([0.44024]), 0.8562091491580789]"
      ]
     },
     "execution_count": 10,
     "metadata": {},
     "output_type": "execute_result"
    }
   ],
   "source": [
    "training.fit(0.01, 25)"
   ]
  },
  {
   "cell_type": "code",
   "execution_count": 11,
   "metadata": {},
   "outputs": [
    {
     "data": {
      "application/vnd.jupyter.widget-view+json": {
       "model_id": "3f99329d51f44cc499dbb42252db1ebc",
       "version_major": 2,
       "version_minor": 0
      },
      "text/plain": [
       "HBox(children=(IntProgress(value=0, description='Epoch', max=1), HTML(value='')))"
      ]
     },
     "metadata": {},
     "output_type": "display_data"
    },
    {
     "name": "stdout",
     "output_type": "stream",
     "text": [
      " 79%|███████▉  | 123/155 [00:01<00:00, 56.56it/s, loss=0.352]\n"
     ]
    }
   ],
   "source": [
    "lrf = training.lr_find()"
   ]
  },
  {
   "cell_type": "code",
   "execution_count": 12,
   "metadata": {},
   "outputs": [
    {
     "data": {
      "image/png": "[encoded data removed]",
      "text/plain": [
       "<Figure size 432x288 with 1 Axes>"
      ]
     },
     "metadata": {
      "needs_background": "light"
     },
     "output_type": "display_data"
    }
   ],
   "source": [
    "training.sched.plot()"
   ]
  },
  {
   "cell_type": "markdown",
   "metadata": {},
   "source": [
    "Based on the graph, we can see the learning rate of 0.01 is okay."
   ]
  },
  {
   "cell_type": "code",
   "execution_count": 13,
   "metadata": {},
   "outputs": [],
   "source": [
    "training.save('dog-breed')"
   ]
  },
  {
   "cell_type": "code",
   "execution_count": null,
   "metadata": {},
   "outputs": [],
   "source": []
  },
  {
   "cell_type": "code",
   "execution_count": 15,
   "metadata": {},
   "outputs": [
    {
     "data": {
      "text/plain": [
       "(10357, 120)"
      ]
     },
     "execution_count": 15,
     "metadata": {},
     "output_type": "execute_result"
    }
   ],
   "source": [
    "training.load('dog-breed')\n",
    "log_preds, y = training.predict_with_targs(is_test=True)\n",
    "log_preds.shape"
   ]
  },
  {
   "cell_type": "code",
   "execution_count": 19,
   "metadata": {},
   "outputs": [],
   "source": [
    "df = pd.DataFrame(np.exp(log_preds))\n",
    "df.columns = [c for c in data.classes]\n",
    "df.insert(0, 'id', [o[5:-4] for o in data.test_ds.fnames])\n",
    "SUBM = os.path.join(PATH,'out/')\n",
    "os.makedirs(SUBM)\n",
    "df.to_csv(f'{SUBM}dog-breed.gz', compression='gzip', index=False)"
   ]
  },
  {
   "cell_type": "markdown",
   "metadata": {},
   "source": [
    "![title](kaggle_submission.png)"
   ]
  },
  {
   "cell_type": "code",
   "execution_count": null,
   "metadata": {},
   "outputs": [],
   "source": []
  },
  {
   "cell_type": "code",
   "execution_count": null,
   "metadata": {},
   "outputs": [],
   "source": []
  },
  {
   "cell_type": "code",
   "execution_count": null,
   "metadata": {},
   "outputs": [],
   "source": []
  }
 ],
 "metadata": {
  "kernelspec": {
   "display_name": "Python 3",
   "language": "python",
   "name": "python3"
  },
  "language_info": {
   "codemirror_mode": {
    "name": "ipython",
    "version": 3
   },
   "file_extension": ".py",
   "mimetype": "text/x-python",
   "name": "python",
   "nbconvert_exporter": "python",
   "pygments_lexer": "ipython3",
   "version": "3.6.6"
  }
 },
 "nbformat": 4,
 "nbformat_minor": 2
}
